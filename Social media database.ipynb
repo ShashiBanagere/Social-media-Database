{
 "cells": [
  {
   "cell_type": "code",
   "execution_count": 1,
   "id": "5d5ea98c-cbb8-4e12-8ad6-4c9df028c502",
   "metadata": {},
   "outputs": [
    {
     "name": "stdout",
     "output_type": "stream",
     "text": [
      "Collecting mysql-connector-python\n",
      "  Downloading mysql_connector_python-9.0.0-cp311-cp311-macosx_13_0_arm64.whl.metadata (2.0 kB)\n",
      "Downloading mysql_connector_python-9.0.0-cp311-cp311-macosx_13_0_arm64.whl (13.4 MB)\n",
      "\u001b[2K   \u001b[38;2;114;156;31m━━━━━━━━━━━━━━━━━━━━━━━━━━━━━━━━━━━━━━━━\u001b[0m \u001b[32m13.4/13.4 MB\u001b[0m \u001b[31m28.3 MB/s\u001b[0m eta \u001b[36m0:00:00\u001b[0mm eta \u001b[36m0:00:01\u001b[0m[36m0:00:01\u001b[0m\n",
      "\u001b[?25hInstalling collected packages: mysql-connector-python\n",
      "Successfully installed mysql-connector-python-9.0.0\n",
      "Note: you may need to restart the kernel to use updated packages.\n"
     ]
    }
   ],
   "source": [
    "pip install mysql-connector-python"
   ]
  },
  {
   "cell_type": "code",
   "execution_count": null,
   "id": "6d48a556-85db-4e1b-b756-0c6113b1fd20",
   "metadata": {},
   "outputs": [],
   "source": [
    "import tkinter as tk\n",
    "from tkinter import messagebox\n",
    "import mysql.connector\n",
    "\n",
    "# Function to connect to the database and insert a new user\n",
    "def register_user():\n",
    "    username = entry_username.get()\n",
    "    password = entry_password.get()\n",
    "    first_name = entry_first_name.get()\n",
    "    last_name = entry_last_name.get()\n",
    "\n",
    "    if not (username and password and first_name and last_name):\n",
    "        messagebox.showerror(\"Input Error\", \"All fields are required!\")\n",
    "        return\n",
    "\n",
    "    try:\n",
    "        connection = mysql.connector.connect(\n",
    "            host=\"localhost\",\n",
    "            user=\"root\",\n",
    "            password=\"rasha123\",\n",
    "            database=\"social_media_db\"\n",
    "        )\n",
    "        cursor = connection.cursor()\n",
    "        cursor.execute(\"INSERT INTO users (username, password, first_name, last_name) VALUES (%s, %s, %s, %s)\",\n",
    "                       (username, password, first_name, last_name))\n",
    "        connection.commit()\n",
    "        messagebox.showinfo(\"Success\", \"User registered successfully!\")\n",
    "        connection.close()\n",
    "    except mysql.connector.Error as err:\n",
    "        messagebox.showerror(\"Database Error\", f\"Error: {err}\")\n",
    "\n",
    "# Setting up the Tkinter window\n",
    "root = tk.Tk()\n",
    "root.title(\"Social Media Registration\")\n",
    "\n",
    "tk.Label(root, text=\"Username\").grid(row=0, column=0)\n",
    "tk.Label(root, text=\"Password\").grid(row=1, column=0)\n",
    "tk.Label(root, text=\"First Name\").grid(row=2, column=0)\n",
    "tk.Label(root, text=\"Last Name\").grid(row=3, column=0)\n",
    "\n",
    "entry_username = tk.Entry(root)\n",
    "entry_password = tk.Entry(root, show=\"*\")\n",
    "entry_first_name = tk.Entry(root)\n",
    "entry_last_name = tk.Entry(root)\n",
    "\n",
    "entry_username.grid(row=0, column=1)\n",
    "entry_password.grid(row=1, column=1)\n",
    "entry_first_name.grid(row=2, column=1)\n",
    "entry_last_name.grid(row=3, column=1)\n",
    "\n",
    "tk.Button(root, text=\"Register\", command=register_user).grid(row=4, column=1)\n",
    "\n",
    "root.mainloop()"
   ]
  },
  {
   "cell_type": "code",
   "execution_count": null,
   "id": "3ca2e5b5-e730-417c-a5c5-adbdddf42950",
   "metadata": {},
   "outputs": [],
   "source": []
  }
 ],
 "metadata": {
  "kernelspec": {
   "display_name": "Python 3 (ipykernel)",
   "language": "python",
   "name": "python3"
  },
  "language_info": {
   "codemirror_mode": {
    "name": "ipython",
    "version": 3
   },
   "file_extension": ".py",
   "mimetype": "text/x-python",
   "name": "python",
   "nbconvert_exporter": "python",
   "pygments_lexer": "ipython3",
   "version": "3.11.7"
  }
 },
 "nbformat": 4,
 "nbformat_minor": 5
}
